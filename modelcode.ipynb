{
 "cells": [
  {
   "cell_type": "code",
   "execution_count": 2,
   "id": "2dbc7c0d-1745-448e-9067-8ae35c119bfc",
   "metadata": {
    "tags": []
   },
   "outputs": [
    {
     "name": "stdout",
     "output_type": "stream",
     "text": [
      "Requirement already satisfied: boto3 in /opt/conda/lib/python3.10/site-packages (1.28.63)\n",
      "Requirement already satisfied: sagemaker in /opt/conda/lib/python3.10/site-packages (2.192.0)\n",
      "Requirement already satisfied: botocore<1.32.0,>=1.31.63 in /opt/conda/lib/python3.10/site-packages (from boto3) (1.31.63)\n",
      "Requirement already satisfied: jmespath<2.0.0,>=0.7.1 in /opt/conda/lib/python3.10/site-packages (from boto3) (0.10.0)\n",
      "Requirement already satisfied: s3transfer<0.8.0,>=0.7.0 in /opt/conda/lib/python3.10/site-packages (from boto3) (0.7.0)\n",
      "Requirement already satisfied: attrs<24,>=23.1.0 in /opt/conda/lib/python3.10/site-packages (from sagemaker) (23.1.0)\n",
      "Requirement already satisfied: cloudpickle==2.2.1 in /opt/conda/lib/python3.10/site-packages (from sagemaker) (2.2.1)\n",
      "Requirement already satisfied: google-pasta in /opt/conda/lib/python3.10/site-packages (from sagemaker) (0.2.0)\n",
      "Requirement already satisfied: numpy<2.0,>=1.9.0 in /opt/conda/lib/python3.10/site-packages (from sagemaker) (1.26.0)\n",
      "Requirement already satisfied: protobuf<5.0,>=3.12 in /opt/conda/lib/python3.10/site-packages (from sagemaker) (4.24.4)\n",
      "Requirement already satisfied: smdebug-rulesconfig==1.0.1 in /opt/conda/lib/python3.10/site-packages (from sagemaker) (1.0.1)\n",
      "Requirement already satisfied: importlib-metadata<7.0,>=1.4.0 in /opt/conda/lib/python3.10/site-packages (from sagemaker) (4.11.3)\n",
      "Requirement already satisfied: packaging>=20.0 in /opt/conda/lib/python3.10/site-packages (from sagemaker) (21.3)\n",
      "Requirement already satisfied: pandas in /opt/conda/lib/python3.10/site-packages (from sagemaker) (1.4.4)\n",
      "Requirement already satisfied: pathos in /opt/conda/lib/python3.10/site-packages (from sagemaker) (0.3.1)\n",
      "Requirement already satisfied: schema in /opt/conda/lib/python3.10/site-packages (from sagemaker) (0.7.5)\n",
      "Requirement already satisfied: PyYAML~=6.0 in /opt/conda/lib/python3.10/site-packages/PyYAML-6.0-py3.10-linux-x86_64.egg (from sagemaker) (6.0)\n",
      "Requirement already satisfied: jsonschema in /opt/conda/lib/python3.10/site-packages (from sagemaker) (4.19.1)\n",
      "Requirement already satisfied: platformdirs in /opt/conda/lib/python3.10/site-packages (from sagemaker) (2.5.2)\n",
      "Requirement already satisfied: tblib==1.7.0 in /opt/conda/lib/python3.10/site-packages (from sagemaker) (1.7.0)\n",
      "Requirement already satisfied: python-dateutil<3.0.0,>=2.1 in /opt/conda/lib/python3.10/site-packages (from botocore<1.32.0,>=1.31.63->boto3) (2.8.2)\n",
      "Requirement already satisfied: urllib3<2.1,>=1.25.4 in /opt/conda/lib/python3.10/site-packages (from botocore<1.32.0,>=1.31.63->boto3) (2.0.6)\n",
      "Requirement already satisfied: zipp>=0.5 in /opt/conda/lib/python3.10/site-packages (from importlib-metadata<7.0,>=1.4.0->sagemaker) (3.8.0)\n",
      "Requirement already satisfied: pyparsing!=3.0.5,>=2.0.2 in /opt/conda/lib/python3.10/site-packages (from packaging>=20.0->sagemaker) (3.0.9)\n",
      "Requirement already satisfied: six in /opt/conda/lib/python3.10/site-packages (from google-pasta->sagemaker) (1.16.0)\n",
      "Requirement already satisfied: jsonschema-specifications>=2023.03.6 in /opt/conda/lib/python3.10/site-packages (from jsonschema->sagemaker) (2023.7.1)\n",
      "Requirement already satisfied: referencing>=0.28.4 in /opt/conda/lib/python3.10/site-packages (from jsonschema->sagemaker) (0.30.2)\n",
      "Requirement already satisfied: rpds-py>=0.7.1 in /opt/conda/lib/python3.10/site-packages (from jsonschema->sagemaker) (0.10.6)\n",
      "Requirement already satisfied: pytz>=2020.1 in /opt/conda/lib/python3.10/site-packages (from pandas->sagemaker) (2022.1)\n",
      "Requirement already satisfied: ppft>=1.7.6.7 in /opt/conda/lib/python3.10/site-packages (from pathos->sagemaker) (1.7.6.7)\n",
      "Requirement already satisfied: dill>=0.3.7 in /opt/conda/lib/python3.10/site-packages (from pathos->sagemaker) (0.3.7)\n",
      "Requirement already satisfied: pox>=0.3.3 in /opt/conda/lib/python3.10/site-packages (from pathos->sagemaker) (0.3.3)\n",
      "Requirement already satisfied: multiprocess>=0.70.15 in /opt/conda/lib/python3.10/site-packages (from pathos->sagemaker) (0.70.15)\n",
      "Requirement already satisfied: contextlib2>=0.5.5 in /opt/conda/lib/python3.10/site-packages (from schema->sagemaker) (21.6.0)\n",
      "\u001b[33mWARNING: Running pip as the 'root' user can result in broken permissions and conflicting behaviour with the system package manager. It is recommended to use a virtual environment instead: https://pip.pypa.io/warnings/venv\u001b[0m\u001b[33m\n",
      "\u001b[0m\n",
      "\u001b[1m[\u001b[0m\u001b[34;49mnotice\u001b[0m\u001b[1;39;49m]\u001b[0m\u001b[39;49m A new release of pip is available: \u001b[0m\u001b[31;49m23.2.1\u001b[0m\u001b[39;49m -> \u001b[0m\u001b[32;49m23.3.1\u001b[0m\n",
      "\u001b[1m[\u001b[0m\u001b[34;49mnotice\u001b[0m\u001b[1;39;49m]\u001b[0m\u001b[39;49m To update, run: \u001b[0m\u001b[32;49mpip install --upgrade pip\u001b[0m\n",
      "Note: you may need to restart the kernel to use updated packages.\n",
      "Collecting xgboost\n",
      "  Obtaining dependency information for xgboost from https://files.pythonhosted.org/packages/ee/2c/03d466d00818c8e0ffcf778946ca4a5e05694a11b85bc51f1bc5c18ca54e/xgboost-2.0.1-py3-none-manylinux2014_x86_64.whl.metadata\n",
      "  Using cached xgboost-2.0.1-py3-none-manylinux2014_x86_64.whl.metadata (2.0 kB)\n",
      "Requirement already satisfied: numpy in /opt/conda/lib/python3.10/site-packages (from xgboost) (1.26.0)\n",
      "Requirement already satisfied: scipy in /opt/conda/lib/python3.10/site-packages (from xgboost) (1.11.3)\n",
      "Using cached xgboost-2.0.1-py3-none-manylinux2014_x86_64.whl (297.1 MB)\n",
      "Installing collected packages: xgboost\n",
      "Successfully installed xgboost-2.0.1\n",
      "\u001b[33mWARNING: Running pip as the 'root' user can result in broken permissions and conflicting behaviour with the system package manager. It is recommended to use a virtual environment instead: https://pip.pypa.io/warnings/venv\u001b[0m\u001b[33m\n",
      "\u001b[0m\n",
      "\u001b[1m[\u001b[0m\u001b[34;49mnotice\u001b[0m\u001b[1;39;49m]\u001b[0m\u001b[39;49m A new release of pip is available: \u001b[0m\u001b[31;49m23.2.1\u001b[0m\u001b[39;49m -> \u001b[0m\u001b[32;49m23.3.1\u001b[0m\n",
      "\u001b[1m[\u001b[0m\u001b[34;49mnotice\u001b[0m\u001b[1;39;49m]\u001b[0m\u001b[39;49m To update, run: \u001b[0m\u001b[32;49mpip install --upgrade pip\u001b[0m\n",
      "Note: you may need to restart the kernel to use updated packages.\n"
     ]
    }
   ],
   "source": [
    "%pip install boto3 sagemaker\n",
    "%pip install xgboost"
   ]
  },
  {
   "cell_type": "code",
   "execution_count": 3,
   "id": "6ea88bbc-519a-4750-bae7-cc83440425ec",
   "metadata": {
    "tags": []
   },
   "outputs": [
    {
     "name": "stdout",
     "output_type": "stream",
     "text": [
      "sagemaker.config INFO - Not applying SDK defaults from location: /etc/xdg/sagemaker/config.yaml\n",
      "sagemaker.config INFO - Not applying SDK defaults from location: /root/.config/sagemaker/config.yaml\n"
     ]
    }
   ],
   "source": [
    "import boto3\n",
    "import io\n",
    "import os\n",
    "import joblib\n",
    "\n",
    "import pandas as pd\n",
    "import matplotlib.pyplot as plt\n",
    "\n",
    "import sagemaker\n",
    "from sagemaker import get_execution_role\n",
    "from sagemaker.xgboost import XGBoost\n",
    "from sagemaker.model import Model\n",
    "\n",
    "from sklearn.model_selection import train_test_split, GridSearchCV, StratifiedKFold\n",
    "from sklearn.preprocessing import StandardScaler\n",
    "from sklearn.ensemble import RandomForestClassifier\n",
    "from sklearn.metrics import accuracy_score, confusion_matrix, plot_confusion_matrix, \\\n",
    "                            ConfusionMatrixDisplay, precision_score, recall_score, \\\n",
    "                            f1_score, roc_curve, roc_auc_score\n",
    "\n",
    "from xgboost import XGBClassifier"
   ]
  },
  {
   "cell_type": "code",
   "execution_count": 4,
   "id": "a9b8e8a4-030c-44a3-af98-cd3cf2c18dc9",
   "metadata": {
    "tags": []
   },
   "outputs": [
    {
     "name": "stdout",
     "output_type": "stream",
     "text": [
      "sagemaker.config INFO - Not applying SDK defaults from location: /etc/xdg/sagemaker/config.yaml\n",
      "sagemaker.config INFO - Not applying SDK defaults from location: /root/.config/sagemaker/config.yaml\n",
      "sagemaker.config INFO - Not applying SDK defaults from location: /etc/xdg/sagemaker/config.yaml\n",
      "sagemaker.config INFO - Not applying SDK defaults from location: /root/.config/sagemaker/config.yaml\n"
     ]
    }
   ],
   "source": [
    "s3_bucket = 'sagemaker-studio-073855787749-u265vam8zvs'\n",
    "data_key = 'input/On-time-delivery-data.csv'\n",
    "data_location = f's3://{s3_bucket}/{data_key}'\n",
    "\n",
    "sagemaker_session = sagemaker.Session()\n",
    "\n",
    "s3_client = boto3.client('s3')\n",
    "# Define your role\n",
    "role = get_execution_role()\n",
    "\n",
    "# Read the dataset from S3 into a Pandas DataFrame\n",
    "df = pd.read_csv(data_location)"
   ]
  },
  {
   "cell_type": "code",
   "execution_count": 5,
   "id": "90034733-e5cd-4f8c-814b-cd9325192855",
   "metadata": {
    "tags": []
   },
   "outputs": [
    {
     "data": {
      "text/html": [
       "<div>\n",
       "<style scoped>\n",
       "    .dataframe tbody tr th:only-of-type {\n",
       "        vertical-align: middle;\n",
       "    }\n",
       "\n",
       "    .dataframe tbody tr th {\n",
       "        vertical-align: top;\n",
       "    }\n",
       "\n",
       "    .dataframe thead th {\n",
       "        text-align: right;\n",
       "    }\n",
       "</style>\n",
       "<table border=\"1\" class=\"dataframe\">\n",
       "  <thead>\n",
       "    <tr style=\"text-align: right;\">\n",
       "      <th></th>\n",
       "      <th>zipcode</th>\n",
       "      <th>total_items</th>\n",
       "      <th>precipitation_rate</th>\n",
       "      <th>water_runoff</th>\n",
       "      <th>snow_depth</th>\n",
       "      <th>temperature</th>\n",
       "      <th>temperature_at_1500m</th>\n",
       "      <th>min_temperature</th>\n",
       "      <th>max_temperature</th>\n",
       "      <th>pressure</th>\n",
       "      <th>wind_gust_speed</th>\n",
       "      <th>total_cloud_cover</th>\n",
       "      <th>dew_point_temperature</th>\n",
       "      <th>relative_humidity</th>\n",
       "      <th>wind_speed</th>\n",
       "      <th>classification_ontime</th>\n",
       "    </tr>\n",
       "  </thead>\n",
       "  <tbody>\n",
       "    <tr>\n",
       "      <th>0</th>\n",
       "      <td>2719</td>\n",
       "      <td>518.0</td>\n",
       "      <td>0.0</td>\n",
       "      <td>1.80</td>\n",
       "      <td>0.0</td>\n",
       "      <td>2.24</td>\n",
       "      <td>-5.41</td>\n",
       "      <td>-3.32</td>\n",
       "      <td>4.36</td>\n",
       "      <td>102949.50</td>\n",
       "      <td>9.09</td>\n",
       "      <td>80.5</td>\n",
       "      <td>-2.44</td>\n",
       "      <td>71.58</td>\n",
       "      <td>4.892280</td>\n",
       "      <td>Delayed</td>\n",
       "    </tr>\n",
       "    <tr>\n",
       "      <th>1</th>\n",
       "      <td>92545</td>\n",
       "      <td>969.0</td>\n",
       "      <td>0.0</td>\n",
       "      <td>0.40</td>\n",
       "      <td>0.0</td>\n",
       "      <td>12.17</td>\n",
       "      <td>6.87</td>\n",
       "      <td>4.76</td>\n",
       "      <td>19.41</td>\n",
       "      <td>94921.35</td>\n",
       "      <td>3.16</td>\n",
       "      <td>0.0</td>\n",
       "      <td>-6.60</td>\n",
       "      <td>28.81</td>\n",
       "      <td>2.376716</td>\n",
       "      <td>Delayed</td>\n",
       "    </tr>\n",
       "    <tr>\n",
       "      <th>2</th>\n",
       "      <td>27357</td>\n",
       "      <td>216.0</td>\n",
       "      <td>0.0</td>\n",
       "      <td>2.05</td>\n",
       "      <td>0.0</td>\n",
       "      <td>5.30</td>\n",
       "      <td>0.92</td>\n",
       "      <td>0.41</td>\n",
       "      <td>11.21</td>\n",
       "      <td>98834.30</td>\n",
       "      <td>8.92</td>\n",
       "      <td>92.5</td>\n",
       "      <td>0.63</td>\n",
       "      <td>73.53</td>\n",
       "      <td>3.213254</td>\n",
       "      <td>On time</td>\n",
       "    </tr>\n",
       "    <tr>\n",
       "      <th>3</th>\n",
       "      <td>81211</td>\n",
       "      <td>402.0</td>\n",
       "      <td>0.0</td>\n",
       "      <td>0.13</td>\n",
       "      <td>0.0</td>\n",
       "      <td>-0.28</td>\n",
       "      <td>10.12</td>\n",
       "      <td>-3.24</td>\n",
       "      <td>5.16</td>\n",
       "      <td>70768.17</td>\n",
       "      <td>6.00</td>\n",
       "      <td>16.0</td>\n",
       "      <td>-5.72</td>\n",
       "      <td>67.84</td>\n",
       "      <td>3.751669</td>\n",
       "      <td>Delayed</td>\n",
       "    </tr>\n",
       "    <tr>\n",
       "      <th>4</th>\n",
       "      <td>67220</td>\n",
       "      <td>246.0</td>\n",
       "      <td>0.0</td>\n",
       "      <td>0.04</td>\n",
       "      <td>0.0</td>\n",
       "      <td>11.71</td>\n",
       "      <td>7.29</td>\n",
       "      <td>5.90</td>\n",
       "      <td>17.24</td>\n",
       "      <td>96777.72</td>\n",
       "      <td>15.99</td>\n",
       "      <td>5.0</td>\n",
       "      <td>5.49</td>\n",
       "      <td>66.28</td>\n",
       "      <td>9.623910</td>\n",
       "      <td>On time</td>\n",
       "    </tr>\n",
       "  </tbody>\n",
       "</table>\n",
       "</div>"
      ],
      "text/plain": [
       "   zipcode  total_items  precipitation_rate  water_runoff  snow_depth  \\\n",
       "0     2719        518.0                 0.0          1.80         0.0   \n",
       "1    92545        969.0                 0.0          0.40         0.0   \n",
       "2    27357        216.0                 0.0          2.05         0.0   \n",
       "3    81211        402.0                 0.0          0.13         0.0   \n",
       "4    67220        246.0                 0.0          0.04         0.0   \n",
       "\n",
       "   temperature  temperature_at_1500m  min_temperature  max_temperature  \\\n",
       "0         2.24                 -5.41            -3.32             4.36   \n",
       "1        12.17                  6.87             4.76            19.41   \n",
       "2         5.30                  0.92             0.41            11.21   \n",
       "3        -0.28                 10.12            -3.24             5.16   \n",
       "4        11.71                  7.29             5.90            17.24   \n",
       "\n",
       "    pressure  wind_gust_speed  total_cloud_cover  dew_point_temperature  \\\n",
       "0  102949.50             9.09               80.5                  -2.44   \n",
       "1   94921.35             3.16                0.0                  -6.60   \n",
       "2   98834.30             8.92               92.5                   0.63   \n",
       "3   70768.17             6.00               16.0                  -5.72   \n",
       "4   96777.72            15.99                5.0                   5.49   \n",
       "\n",
       "   relative_humidity  wind_speed classification_ontime  \n",
       "0              71.58    4.892280               Delayed  \n",
       "1              28.81    2.376716               Delayed  \n",
       "2              73.53    3.213254               On time  \n",
       "3              67.84    3.751669               Delayed  \n",
       "4              66.28    9.623910               On time  "
      ]
     },
     "execution_count": 5,
     "metadata": {},
     "output_type": "execute_result"
    }
   ],
   "source": [
    "#EDA\n",
    "\n",
    "df.head()"
   ]
  },
  {
   "cell_type": "code",
   "execution_count": 6,
   "id": "ecd1acb4-90cd-44d0-a050-28224131b237",
   "metadata": {
    "tags": []
   },
   "outputs": [
    {
     "data": {
      "text/plain": [
       "zipcode                    int64\n",
       "total_items              float64\n",
       "precipitation_rate       float64\n",
       "water_runoff             float64\n",
       "snow_depth               float64\n",
       "temperature              float64\n",
       "temperature_at_1500m     float64\n",
       "min_temperature          float64\n",
       "max_temperature          float64\n",
       "pressure                 float64\n",
       "wind_gust_speed          float64\n",
       "total_cloud_cover        float64\n",
       "dew_point_temperature    float64\n",
       "relative_humidity        float64\n",
       "wind_speed               float64\n",
       "classification_ontime     object\n",
       "dtype: object"
      ]
     },
     "execution_count": 6,
     "metadata": {},
     "output_type": "execute_result"
    }
   ],
   "source": [
    "df.dtypes"
   ]
  },
  {
   "cell_type": "code",
   "execution_count": 7,
   "id": "5f584599-c230-4e28-a283-0956f7eb784f",
   "metadata": {
    "tags": []
   },
   "outputs": [
    {
     "data": {
      "text/html": [
       "<div>\n",
       "<style scoped>\n",
       "    .dataframe tbody tr th:only-of-type {\n",
       "        vertical-align: middle;\n",
       "    }\n",
       "\n",
       "    .dataframe tbody tr th {\n",
       "        vertical-align: top;\n",
       "    }\n",
       "\n",
       "    .dataframe thead th {\n",
       "        text-align: right;\n",
       "    }\n",
       "</style>\n",
       "<table border=\"1\" class=\"dataframe\">\n",
       "  <thead>\n",
       "    <tr style=\"text-align: right;\">\n",
       "      <th></th>\n",
       "      <th>zipcode</th>\n",
       "      <th>total_items</th>\n",
       "      <th>precipitation_rate</th>\n",
       "      <th>water_runoff</th>\n",
       "      <th>snow_depth</th>\n",
       "      <th>temperature</th>\n",
       "      <th>temperature_at_1500m</th>\n",
       "      <th>min_temperature</th>\n",
       "      <th>max_temperature</th>\n",
       "      <th>pressure</th>\n",
       "      <th>wind_gust_speed</th>\n",
       "      <th>total_cloud_cover</th>\n",
       "      <th>dew_point_temperature</th>\n",
       "      <th>relative_humidity</th>\n",
       "      <th>wind_speed</th>\n",
       "    </tr>\n",
       "  </thead>\n",
       "  <tbody>\n",
       "    <tr>\n",
       "      <th>count</th>\n",
       "      <td>45000.000000</td>\n",
       "      <td>45000.000000</td>\n",
       "      <td>45000.0</td>\n",
       "      <td>45000.000000</td>\n",
       "      <td>45000.000000</td>\n",
       "      <td>45000.000000</td>\n",
       "      <td>45000.000000</td>\n",
       "      <td>45000.000000</td>\n",
       "      <td>45000.000000</td>\n",
       "      <td>45000.000000</td>\n",
       "      <td>45000.000000</td>\n",
       "      <td>45000.000000</td>\n",
       "      <td>45000.000000</td>\n",
       "      <td>45000.000000</td>\n",
       "      <td>45000.000000</td>\n",
       "    </tr>\n",
       "    <tr>\n",
       "      <th>mean</th>\n",
       "      <td>48087.534356</td>\n",
       "      <td>745.937689</td>\n",
       "      <td>0.0</td>\n",
       "      <td>1.746789</td>\n",
       "      <td>0.017405</td>\n",
       "      <td>5.366044</td>\n",
       "      <td>1.101344</td>\n",
       "      <td>1.463699</td>\n",
       "      <td>9.685610</td>\n",
       "      <td>98712.437251</td>\n",
       "      <td>7.194286</td>\n",
       "      <td>57.223122</td>\n",
       "      <td>-0.594257</td>\n",
       "      <td>70.183491</td>\n",
       "      <td>3.791066</td>\n",
       "    </tr>\n",
       "    <tr>\n",
       "      <th>std</th>\n",
       "      <td>29470.984048</td>\n",
       "      <td>722.175529</td>\n",
       "      <td>0.0</td>\n",
       "      <td>2.287030</td>\n",
       "      <td>0.050950</td>\n",
       "      <td>8.994406</td>\n",
       "      <td>8.581042</td>\n",
       "      <td>9.030691</td>\n",
       "      <td>9.355469</td>\n",
       "      <td>4542.604461</td>\n",
       "      <td>3.590518</td>\n",
       "      <td>34.306560</td>\n",
       "      <td>9.136050</td>\n",
       "      <td>18.770509</td>\n",
       "      <td>1.819227</td>\n",
       "    </tr>\n",
       "    <tr>\n",
       "      <th>min</th>\n",
       "      <td>1001.000000</td>\n",
       "      <td>102.000000</td>\n",
       "      <td>0.0</td>\n",
       "      <td>0.000000</td>\n",
       "      <td>0.000000</td>\n",
       "      <td>-28.500000</td>\n",
       "      <td>-28.830000</td>\n",
       "      <td>-34.050000</td>\n",
       "      <td>-24.620000</td>\n",
       "      <td>65960.900000</td>\n",
       "      <td>0.520000</td>\n",
       "      <td>0.000000</td>\n",
       "      <td>-32.350000</td>\n",
       "      <td>8.410000</td>\n",
       "      <td>0.364730</td>\n",
       "    </tr>\n",
       "    <tr>\n",
       "      <th>25%</th>\n",
       "      <td>22315.000000</td>\n",
       "      <td>216.000000</td>\n",
       "      <td>0.0</td>\n",
       "      <td>0.160000</td>\n",
       "      <td>0.000000</td>\n",
       "      <td>-0.490000</td>\n",
       "      <td>-5.100000</td>\n",
       "      <td>-3.920000</td>\n",
       "      <td>3.150000</td>\n",
       "      <td>98249.255000</td>\n",
       "      <td>4.350000</td>\n",
       "      <td>26.700000</td>\n",
       "      <td>-6.370000</td>\n",
       "      <td>58.520000</td>\n",
       "      <td>2.444013</td>\n",
       "    </tr>\n",
       "    <tr>\n",
       "      <th>50%</th>\n",
       "      <td>45601.000000</td>\n",
       "      <td>491.000000</td>\n",
       "      <td>0.0</td>\n",
       "      <td>0.970000</td>\n",
       "      <td>0.000000</td>\n",
       "      <td>4.840000</td>\n",
       "      <td>1.905000</td>\n",
       "      <td>0.810000</td>\n",
       "      <td>9.540000</td>\n",
       "      <td>99784.020000</td>\n",
       "      <td>6.910000</td>\n",
       "      <td>61.500000</td>\n",
       "      <td>-1.250000</td>\n",
       "      <td>73.110000</td>\n",
       "      <td>3.472554</td>\n",
       "    </tr>\n",
       "    <tr>\n",
       "      <th>75%</th>\n",
       "      <td>75570.000000</td>\n",
       "      <td>1028.000000</td>\n",
       "      <td>0.0</td>\n",
       "      <td>2.470000</td>\n",
       "      <td>0.000000</td>\n",
       "      <td>12.010000</td>\n",
       "      <td>7.830000</td>\n",
       "      <td>7.470000</td>\n",
       "      <td>16.650000</td>\n",
       "      <td>101200.000000</td>\n",
       "      <td>9.670000</td>\n",
       "      <td>91.000000</td>\n",
       "      <td>5.370000</td>\n",
       "      <td>85.660000</td>\n",
       "      <td>4.803201</td>\n",
       "    </tr>\n",
       "    <tr>\n",
       "      <th>max</th>\n",
       "      <td>99403.000000</td>\n",
       "      <td>4604.000000</td>\n",
       "      <td>0.0</td>\n",
       "      <td>61.510000</td>\n",
       "      <td>1.140000</td>\n",
       "      <td>27.540000</td>\n",
       "      <td>23.100000</td>\n",
       "      <td>25.100000</td>\n",
       "      <td>35.130000</td>\n",
       "      <td>103945.500000</td>\n",
       "      <td>30.550000</td>\n",
       "      <td>100.000000</td>\n",
       "      <td>21.760000</td>\n",
       "      <td>100.010000</td>\n",
       "      <td>21.021189</td>\n",
       "    </tr>\n",
       "  </tbody>\n",
       "</table>\n",
       "</div>"
      ],
      "text/plain": [
       "            zipcode   total_items  precipitation_rate  water_runoff  \\\n",
       "count  45000.000000  45000.000000             45000.0  45000.000000   \n",
       "mean   48087.534356    745.937689                 0.0      1.746789   \n",
       "std    29470.984048    722.175529                 0.0      2.287030   \n",
       "min     1001.000000    102.000000                 0.0      0.000000   \n",
       "25%    22315.000000    216.000000                 0.0      0.160000   \n",
       "50%    45601.000000    491.000000                 0.0      0.970000   \n",
       "75%    75570.000000   1028.000000                 0.0      2.470000   \n",
       "max    99403.000000   4604.000000                 0.0     61.510000   \n",
       "\n",
       "         snow_depth   temperature  temperature_at_1500m  min_temperature  \\\n",
       "count  45000.000000  45000.000000          45000.000000     45000.000000   \n",
       "mean       0.017405      5.366044              1.101344         1.463699   \n",
       "std        0.050950      8.994406              8.581042         9.030691   \n",
       "min        0.000000    -28.500000            -28.830000       -34.050000   \n",
       "25%        0.000000     -0.490000             -5.100000        -3.920000   \n",
       "50%        0.000000      4.840000              1.905000         0.810000   \n",
       "75%        0.000000     12.010000              7.830000         7.470000   \n",
       "max        1.140000     27.540000             23.100000        25.100000   \n",
       "\n",
       "       max_temperature       pressure  wind_gust_speed  total_cloud_cover  \\\n",
       "count     45000.000000   45000.000000     45000.000000       45000.000000   \n",
       "mean          9.685610   98712.437251         7.194286          57.223122   \n",
       "std           9.355469    4542.604461         3.590518          34.306560   \n",
       "min         -24.620000   65960.900000         0.520000           0.000000   \n",
       "25%           3.150000   98249.255000         4.350000          26.700000   \n",
       "50%           9.540000   99784.020000         6.910000          61.500000   \n",
       "75%          16.650000  101200.000000         9.670000          91.000000   \n",
       "max          35.130000  103945.500000        30.550000         100.000000   \n",
       "\n",
       "       dew_point_temperature  relative_humidity    wind_speed  \n",
       "count           45000.000000       45000.000000  45000.000000  \n",
       "mean               -0.594257          70.183491      3.791066  \n",
       "std                 9.136050          18.770509      1.819227  \n",
       "min               -32.350000           8.410000      0.364730  \n",
       "25%                -6.370000          58.520000      2.444013  \n",
       "50%                -1.250000          73.110000      3.472554  \n",
       "75%                 5.370000          85.660000      4.803201  \n",
       "max                21.760000         100.010000     21.021189  "
      ]
     },
     "execution_count": 7,
     "metadata": {},
     "output_type": "execute_result"
    }
   ],
   "source": [
    "df.describe()"
   ]
  },
  {
   "cell_type": "code",
   "execution_count": 5,
   "id": "993fddf6-a6ce-467c-8567-2cf6cdc458b3",
   "metadata": {
    "tags": []
   },
   "outputs": [
    {
     "data": {
      "text/plain": [
       "<Figure size 300x300 with 0 Axes>"
      ]
     },
     "metadata": {},
     "output_type": "display_data"
    },
    {
     "data": {
      "image/png": "[encoded data removed]",
      "text/plain": [
       "<Figure size 640x480 with 1 Axes>"
      ]
     },
     "metadata": {},
     "output_type": "display_data"
    }
   ],
   "source": [
    "\n",
    "category_counts = df['classification_ontime'].value_counts()\n",
    "plt.figure(figsize=(3, 3))\n",
    "fig, ax = plt.subplots()\n",
    "colors = ['#ff9999', '#66b3ff']\n",
    "wedges, texts, autotexts = ax.pie(category_counts, labels=category_counts.index, autopct='%1.1f%%', startangle=90, colors=colors)\n",
    "plt.axis('equal')\n",
    "\n",
    "# Add category labels\n",
    "ax.legend(wedges, category_counts.index, title='Target column distribution', loc=\"center left\", bbox_to_anchor=(1, 0.5, 0.5, 1))\n",
    "\n",
    "# Add counts inside the pie chart\n",
    "for text, autotext, count in zip(texts, autotexts, category_counts):\n",
    "    text.set(size=12, weight='bold')\n",
    "    autotext.set(size=12, weight='bold', color='black')\n",
    "    autotext.set_text(f'{count}\\n\\n{autotext.get_text()}')\n",
    "plt.title('Target column distribution')\n",
    "\n",
    "plt.show()"
   ]
  },
  {
   "cell_type": "code",
   "execution_count": 9,
   "id": "53933a9d-97ae-4601-b148-7d23a850e578",
   "metadata": {
    "tags": []
   },
   "outputs": [
    {
     "data": {
      "text/plain": [
       "zipcode                  0\n",
       "total_items              0\n",
       "precipitation_rate       0\n",
       "water_runoff             0\n",
       "snow_depth               0\n",
       "temperature              0\n",
       "temperature_at_1500m     0\n",
       "min_temperature          0\n",
       "max_temperature          0\n",
       "pressure                 0\n",
       "wind_gust_speed          0\n",
       "total_cloud_cover        0\n",
       "dew_point_temperature    0\n",
       "relative_humidity        0\n",
       "wind_speed               0\n",
       "classification_ontime    0\n",
       "dtype: int64"
      ]
     },
     "execution_count": 9,
     "metadata": {},
     "output_type": "execute_result"
    }
   ],
   "source": [
    "#check for null values\n",
    "\n",
    "df.isnull().sum()"
   ]
  },
  {
   "cell_type": "code",
   "execution_count": 10,
   "id": "67be0eaf-91b5-4ae9-858b-a45cd4d5dc99",
   "metadata": {
    "tags": []
   },
   "outputs": [
    {
     "data": {
      "text/plain": [
       "14442"
      ]
     },
     "execution_count": 10,
     "metadata": {},
     "output_type": "execute_result"
    }
   ],
   "source": [
    "df['zipcode'].nunique()"
   ]
  },
  {
   "cell_type": "code",
   "execution_count": 34,
   "id": "cda174d5-0a59-45a0-aa76-36e17200303b",
   "metadata": {
    "tags": []
   },
   "outputs": [],
   "source": [
    "#data preprocessing\n",
    "\n",
    "def group_zipcodes(zipcode):\n",
    "    # Use the first 3 digits to group zip codes\n",
    "    return str(zipcode)[:1]\n",
    "\n",
    "def feature_selection(df):\n",
    "    clf = RandomForestClassifier()\n",
    "    \n",
    "    X = df.drop('classification_ontime', axis=1)\n",
    "    Y = df['classification_ontime']\n",
    "    clf.fit(X, Y)\n",
    "\n",
    "    feature_importances = clf.feature_importances_\n",
    "\n",
    "    feature_importance_df = pd.DataFrame({'Feature': X.columns, 'Importance': feature_importances})\n",
    "\n",
    "    threshold = 0.01\n",
    "\n",
    "    selected_features = feature_importance_df[feature_importance_df['Importance'] >= threshold]['Feature']\n",
    "    \n",
    "    return selected_features.tolist() + ['classification_ontime']\n",
    "\n",
    "def preprocess(df, typedf='train', scaler = StandardScaler(), selection=False, columns_to_remove = []):\n",
    "    if typedf=='train':\n",
    "        df_new = df.loc[:, df.apply(pd.Series.nunique) != 1]\n",
    "        r_cols = [col for col in df.columns if col not in df_new.columns]\n",
    "        if r_cols:\n",
    "            [columns_to_remove.append(col) for col in r_cols]\n",
    "    else:\n",
    "        df_new = df.loc[:, [col for col in df.columns if col not in columns_to_remove]]\n",
    "    # grouping zipcode to reduce cardinality\n",
    "\n",
    "    # Apply the grouping function to the 'zipcode' column\n",
    "    df_new['zipcode_grouped'] = df_new['zipcode'].apply(group_zipcodes)\n",
    "    df_new = df_new.loc[:, df_new.columns != 'zipcode']\n",
    "    \n",
    "    if selection:\n",
    "        if typedf=='train':\n",
    "            important_features = feature_selection(df_new)\n",
    "            r_cols = [col for col in df_new.columns if col not in important_features]\n",
    "            if r_cols:\n",
    "                [columns_to_remove.append(col) for col in r_cols]\n",
    "            df_new = df_new[important_features]\n",
    "        else:\n",
    "            df_new = df_new.loc[:, [col for col in df_new.columns if col not in columns_to_remove]]\n",
    "        \n",
    "    \n",
    "    # Initialize the StandardScaler\n",
    "    categorical_columns = ['classification_ontime','zipcode_grouped']\n",
    "    numeric_columns = [col for col in df_new.columns if col not in categorical_columns]\n",
    "    \n",
    "    # Fit the StandardScaler on the training data and transform the training data\n",
    "    df_std = df_new.copy()\n",
    "    if typedf=='train':\n",
    "        df_std[numeric_columns] = scaler.fit_transform(df_new[numeric_columns])\n",
    "    else:\n",
    "        df_std[numeric_columns] = scaler.transform(df_new[numeric_columns])\n",
    "    \n",
    "    # onehotencoding\n",
    "    df_std = pd.get_dummies(df_std, columns=['zipcode_grouped'])\n",
    "    df_std_X = df_std.drop('classification_ontime', axis=1)\n",
    "    df_std['classification_ontime'] = df_std['classification_ontime'].apply(lambda x: 1 if x=='On time' else 0)\n",
    "    df_std_Y = df_std['classification_ontime']\n",
    "    df_std_X = df_std_X.reset_index(drop=True)\n",
    "    df_std_Y = df_std_Y.reset_index(drop=True)\n",
    "    if typedf=='train':\n",
    "        return df_std_X, df_std_Y, scaler, columns_to_remove\n",
    "    return df_std_X, df_std_Y\n",
    "    \n",
    "    "
   ]
  },
  {
   "cell_type": "code",
   "execution_count": 35,
   "id": "d4d426a0-1646-4001-b5d7-391b2023043b",
   "metadata": {
    "tags": []
   },
   "outputs": [],
   "source": [
    "def split_dataset(df):    \n",
    "    # Split the data into train, validation, and test sets\n",
    "    train_data, test_data = train_test_split(df, test_size=0.1, random_state=42, stratify = df['classification_ontime'])\n",
    "    train_data, val_data = train_test_split(train_data, test_size=0.2, random_state=42, stratify = train_data['classification_ontime'])\n",
    "\n",
    "    # Upload train, validation, and test datasets to S3\n",
    "    for dataset, dataset_name in [(train_data, 'train.csv'), (val_data, 'validation.csv'), (test_data, 'test.csv')]:\n",
    "        # Convert the DataFrame to CSV format\n",
    "        csv_buffer = io.StringIO()\n",
    "        dataset.to_csv(csv_buffer, index=False)\n",
    "\n",
    "        # Upload the CSV to S3\n",
    "        s3_key = os.path.join('input', dataset_name)\n",
    "        s3_client.put_object(Bucket=s3_bucket, Key=s3_key, Body=csv_buffer.getvalue())\n",
    "\n",
    "    # Get the counts of the split datasets\n",
    "    train_count = len(train_data)\n",
    "    val_count = len(val_data)\n",
    "    test_count = len(test_data)\n",
    "\n",
    "    # Print the counts\n",
    "    print(f\"Train dataset count: {train_count} samples\")\n",
    "    print(f\"Validation dataset count: {val_count} samples\")\n",
    "    print(f\"Test dataset count: {test_count} samples\")\n",
    "    \n",
    "    return train_data, val_data, test_data"
   ]
  },
  {
   "cell_type": "code",
   "execution_count": 36,
   "id": "19491aec-717f-45b8-9136-546ef5947051",
   "metadata": {
    "tags": []
   },
   "outputs": [
    {
     "name": "stdout",
     "output_type": "stream",
     "text": [
      "Train dataset count: 32400 samples\n",
      "Validation dataset count: 8100 samples\n",
      "Test dataset count: 4500 samples\n"
     ]
    }
   ],
   "source": [
    "train_data, val_data, test_data = split_dataset(df)"
   ]
  },
  {
   "cell_type": "code",
   "execution_count": 37,
   "id": "5c68873a-6188-49bf-a574-1e9c0b0b8a74",
   "metadata": {},
   "outputs": [],
   "source": [
    "scaler = StandardScaler()\n",
    "selection = True\n",
    "\n",
    "train_X, train_Y, scaler_obj, columns_to_remove = preprocess(train_data, typedf='train',  scaler = scaler, selection=selection)\n",
    "val_X, val_Y = preprocess(val_data, typedf='val', scaler=scaler_obj, selection=selection, columns_to_remove=columns_to_remove)\n",
    "test_X, test_Y = preprocess(test_data, typedf='test', scaler=scaler_obj, selection=selection, columns_to_remove=columns_to_remove)"
   ]
  },
  {
   "cell_type": "code",
   "execution_count": 111,
   "id": "3969242c-5dfd-4409-bfa2-6b81b0e62516",
   "metadata": {
    "tags": []
   },
   "outputs": [
    {
     "data": {
      "text/html": [
       "<div>\n",
       "<style scoped>\n",
       "    .dataframe tbody tr th:only-of-type {\n",
       "        vertical-align: middle;\n",
       "    }\n",
       "\n",
       "    .dataframe tbody tr th {\n",
       "        vertical-align: top;\n",
       "    }\n",
       "\n",
       "    .dataframe thead th {\n",
       "        text-align: right;\n",
       "    }\n",
       "</style>\n",
       "<table border=\"1\" class=\"dataframe\">\n",
       "  <thead>\n",
       "    <tr style=\"text-align: right;\">\n",
       "      <th></th>\n",
       "      <th>total_items</th>\n",
       "      <th>water_runoff</th>\n",
       "      <th>snow_depth</th>\n",
       "      <th>temperature</th>\n",
       "      <th>temperature_at_1500m</th>\n",
       "      <th>min_temperature</th>\n",
       "      <th>max_temperature</th>\n",
       "      <th>pressure</th>\n",
       "      <th>wind_gust_speed</th>\n",
       "      <th>total_cloud_cover</th>\n",
       "      <th>...</th>\n",
       "      <th>wind_speed</th>\n",
       "      <th>zipcode_grouped_1</th>\n",
       "      <th>zipcode_grouped_2</th>\n",
       "      <th>zipcode_grouped_3</th>\n",
       "      <th>zipcode_grouped_4</th>\n",
       "      <th>zipcode_grouped_5</th>\n",
       "      <th>zipcode_grouped_6</th>\n",
       "      <th>zipcode_grouped_7</th>\n",
       "      <th>zipcode_grouped_8</th>\n",
       "      <th>zipcode_grouped_9</th>\n",
       "    </tr>\n",
       "  </thead>\n",
       "  <tbody>\n",
       "    <tr>\n",
       "      <th>34703</th>\n",
       "      <td>-0.442875</td>\n",
       "      <td>0.090215</td>\n",
       "      <td>-0.343633</td>\n",
       "      <td>1.579069</td>\n",
       "      <td>1.269679</td>\n",
       "      <td>1.412846</td>\n",
       "      <td>1.647280</td>\n",
       "      <td>0.332201</td>\n",
       "      <td>1.345079</td>\n",
       "      <td>0.873001</td>\n",
       "      <td>...</td>\n",
       "      <td>0.599615</td>\n",
       "      <td>0</td>\n",
       "      <td>1</td>\n",
       "      <td>0</td>\n",
       "      <td>0</td>\n",
       "      <td>0</td>\n",
       "      <td>0</td>\n",
       "      <td>0</td>\n",
       "      <td>0</td>\n",
       "      <td>0</td>\n",
       "    </tr>\n",
       "    <tr>\n",
       "      <th>39676</th>\n",
       "      <td>-0.814618</td>\n",
       "      <td>-0.145814</td>\n",
       "      <td>-0.343633</td>\n",
       "      <td>0.124871</td>\n",
       "      <td>-0.158117</td>\n",
       "      <td>-0.363980</td>\n",
       "      <td>0.247221</td>\n",
       "      <td>-0.052640</td>\n",
       "      <td>0.502442</td>\n",
       "      <td>-0.103946</td>\n",
       "      <td>...</td>\n",
       "      <td>-0.365966</td>\n",
       "      <td>1</td>\n",
       "      <td>0</td>\n",
       "      <td>0</td>\n",
       "      <td>0</td>\n",
       "      <td>0</td>\n",
       "      <td>0</td>\n",
       "      <td>0</td>\n",
       "      <td>0</td>\n",
       "      <td>0</td>\n",
       "    </tr>\n",
       "    <tr>\n",
       "      <th>20673</th>\n",
       "      <td>-0.195508</td>\n",
       "      <td>-0.539196</td>\n",
       "      <td>5.953264</td>\n",
       "      <td>-1.672403</td>\n",
       "      <td>-1.871705</td>\n",
       "      <td>-1.760531</td>\n",
       "      <td>-1.648982</td>\n",
       "      <td>0.194554</td>\n",
       "      <td>-1.068812</td>\n",
       "      <td>1.173376</td>\n",
       "      <td>...</td>\n",
       "      <td>-0.914938</td>\n",
       "      <td>0</td>\n",
       "      <td>0</td>\n",
       "      <td>0</td>\n",
       "      <td>0</td>\n",
       "      <td>1</td>\n",
       "      <td>0</td>\n",
       "      <td>0</td>\n",
       "      <td>0</td>\n",
       "      <td>0</td>\n",
       "    </tr>\n",
       "    <tr>\n",
       "      <th>14896</th>\n",
       "      <td>-0.133320</td>\n",
       "      <td>-0.377472</td>\n",
       "      <td>-0.343633</td>\n",
       "      <td>0.094990</td>\n",
       "      <td>0.176468</td>\n",
       "      <td>-0.108259</td>\n",
       "      <td>0.222733</td>\n",
       "      <td>0.040313</td>\n",
       "      <td>-1.185614</td>\n",
       "      <td>-0.430566</td>\n",
       "      <td>...</td>\n",
       "      <td>-0.915466</td>\n",
       "      <td>0</td>\n",
       "      <td>0</td>\n",
       "      <td>0</td>\n",
       "      <td>0</td>\n",
       "      <td>0</td>\n",
       "      <td>1</td>\n",
       "      <td>0</td>\n",
       "      <td>0</td>\n",
       "      <td>0</td>\n",
       "    </tr>\n",
       "    <tr>\n",
       "      <th>38458</th>\n",
       "      <td>1.449003</td>\n",
       "      <td>-0.609130</td>\n",
       "      <td>0.837035</td>\n",
       "      <td>-0.849021</td>\n",
       "      <td>-0.546143</td>\n",
       "      <td>-1.048478</td>\n",
       "      <td>-0.758906</td>\n",
       "      <td>-1.964954</td>\n",
       "      <td>-0.935325</td>\n",
       "      <td>0.619287</td>\n",
       "      <td>...</td>\n",
       "      <td>-0.561277</td>\n",
       "      <td>0</td>\n",
       "      <td>0</td>\n",
       "      <td>0</td>\n",
       "      <td>0</td>\n",
       "      <td>0</td>\n",
       "      <td>0</td>\n",
       "      <td>0</td>\n",
       "      <td>0</td>\n",
       "      <td>1</td>\n",
       "    </tr>\n",
       "  </tbody>\n",
       "</table>\n",
       "<p>5 rows × 22 columns</p>\n",
       "</div>"
      ],
      "text/plain": [
       "       total_items  water_runoff  snow_depth  temperature  \\\n",
       "34703    -0.442875      0.090215   -0.343633     1.579069   \n",
       "39676    -0.814618     -0.145814   -0.343633     0.124871   \n",
       "20673    -0.195508     -0.539196    5.953264    -1.672403   \n",
       "14896    -0.133320     -0.377472   -0.343633     0.094990   \n",
       "38458     1.449003     -0.609130    0.837035    -0.849021   \n",
       "\n",
       "       temperature_at_1500m  min_temperature  max_temperature  pressure  \\\n",
       "34703              1.269679         1.412846         1.647280  0.332201   \n",
       "39676             -0.158117        -0.363980         0.247221 -0.052640   \n",
       "20673             -1.871705        -1.760531        -1.648982  0.194554   \n",
       "14896              0.176468        -0.108259         0.222733  0.040313   \n",
       "38458             -0.546143        -1.048478        -0.758906 -1.964954   \n",
       "\n",
       "       wind_gust_speed  total_cloud_cover  ...  wind_speed  zipcode_grouped_1  \\\n",
       "34703         1.345079           0.873001  ...    0.599615                  0   \n",
       "39676         0.502442          -0.103946  ...   -0.365966                  1   \n",
       "20673        -1.068812           1.173376  ...   -0.914938                  0   \n",
       "14896        -1.185614          -0.430566  ...   -0.915466                  0   \n",
       "38458        -0.935325           0.619287  ...   -0.561277                  0   \n",
       "\n",
       "       zipcode_grouped_2  zipcode_grouped_3  zipcode_grouped_4  \\\n",
       "34703                  1                  0                  0   \n",
       "39676                  0                  0                  0   \n",
       "20673                  0                  0                  0   \n",
       "14896                  0                  0                  0   \n",
       "38458                  0                  0                  0   \n",
       "\n",
       "       zipcode_grouped_5  zipcode_grouped_6  zipcode_grouped_7  \\\n",
       "34703                  0                  0                  0   \n",
       "39676                  0                  0                  0   \n",
       "20673                  1                  0                  0   \n",
       "14896                  0                  1                  0   \n",
       "38458                  0                  0                  0   \n",
       "\n",
       "       zipcode_grouped_8  zipcode_grouped_9  \n",
       "34703                  0                  0  \n",
       "39676                  0                  0  \n",
       "20673                  0                  0  \n",
       "14896                  0                  0  \n",
       "38458                  0                  1  \n",
       "\n",
       "[5 rows x 22 columns]"
      ]
     },
     "execution_count": 111,
     "metadata": {},
     "output_type": "execute_result"
    }
   ],
   "source": [
    "train_X.head()"
   ]
  },
  {
   "cell_type": "code",
   "execution_count": 93,
   "id": "29aac899-a935-4117-85e1-cb3bf2004839",
   "metadata": {
    "tags": []
   },
   "outputs": [
    {
     "data": {
      "text/html": [
       "<div>\n",
       "<style scoped>\n",
       "    .dataframe tbody tr th:only-of-type {\n",
       "        vertical-align: middle;\n",
       "    }\n",
       "\n",
       "    .dataframe tbody tr th {\n",
       "        vertical-align: top;\n",
       "    }\n",
       "\n",
       "    .dataframe thead th {\n",
       "        text-align: right;\n",
       "    }\n",
       "</style>\n",
       "<table border=\"1\" class=\"dataframe\">\n",
       "  <thead>\n",
       "    <tr style=\"text-align: right;\">\n",
       "      <th></th>\n",
       "      <th>total_items</th>\n",
       "      <th>water_runoff</th>\n",
       "      <th>snow_depth</th>\n",
       "      <th>temperature</th>\n",
       "      <th>temperature_at_1500m</th>\n",
       "      <th>min_temperature</th>\n",
       "      <th>max_temperature</th>\n",
       "      <th>pressure</th>\n",
       "      <th>wind_gust_speed</th>\n",
       "      <th>total_cloud_cover</th>\n",
       "      <th>...</th>\n",
       "      <th>wind_speed</th>\n",
       "      <th>zipcode_grouped_1</th>\n",
       "      <th>zipcode_grouped_2</th>\n",
       "      <th>zipcode_grouped_3</th>\n",
       "      <th>zipcode_grouped_4</th>\n",
       "      <th>zipcode_grouped_5</th>\n",
       "      <th>zipcode_grouped_6</th>\n",
       "      <th>zipcode_grouped_7</th>\n",
       "      <th>zipcode_grouped_8</th>\n",
       "      <th>zipcode_grouped_9</th>\n",
       "    </tr>\n",
       "  </thead>\n",
       "  <tbody>\n",
       "    <tr>\n",
       "      <th>192</th>\n",
       "      <td>-0.856076</td>\n",
       "      <td>0.383065</td>\n",
       "      <td>-0.343633</td>\n",
       "      <td>1.768314</td>\n",
       "      <td>1.506677</td>\n",
       "      <td>2.044435</td>\n",
       "      <td>1.617469</td>\n",
       "      <td>0.452688</td>\n",
       "      <td>1.306145</td>\n",
       "      <td>1.217120</td>\n",
       "      <td>...</td>\n",
       "      <td>0.612826</td>\n",
       "      <td>0</td>\n",
       "      <td>0</td>\n",
       "      <td>1</td>\n",
       "      <td>0</td>\n",
       "      <td>0</td>\n",
       "      <td>0</td>\n",
       "      <td>0</td>\n",
       "      <td>0</td>\n",
       "      <td>0</td>\n",
       "    </tr>\n",
       "    <tr>\n",
       "      <th>5129</th>\n",
       "      <td>0.275735</td>\n",
       "      <td>0.007167</td>\n",
       "      <td>-0.343633</td>\n",
       "      <td>-0.452824</td>\n",
       "      <td>-0.051236</td>\n",
       "      <td>-0.154553</td>\n",
       "      <td>0.617731</td>\n",
       "      <td>-0.296411</td>\n",
       "      <td>0.416231</td>\n",
       "      <td>1.246282</td>\n",
       "      <td>...</td>\n",
       "      <td>0.003550</td>\n",
       "      <td>0</td>\n",
       "      <td>0</td>\n",
       "      <td>0</td>\n",
       "      <td>0</td>\n",
       "      <td>0</td>\n",
       "      <td>0</td>\n",
       "      <td>1</td>\n",
       "      <td>0</td>\n",
       "      <td>0</td>\n",
       "    </tr>\n",
       "    <tr>\n",
       "      <th>42543</th>\n",
       "      <td>0.883789</td>\n",
       "      <td>1.799239</td>\n",
       "      <td>-0.343633</td>\n",
       "      <td>1.063349</td>\n",
       "      <td>1.486927</td>\n",
       "      <td>1.027059</td>\n",
       "      <td>1.160720</td>\n",
       "      <td>0.523933</td>\n",
       "      <td>1.987485</td>\n",
       "      <td>0.639700</td>\n",
       "      <td>...</td>\n",
       "      <td>0.534114</td>\n",
       "      <td>0</td>\n",
       "      <td>1</td>\n",
       "      <td>0</td>\n",
       "      <td>0</td>\n",
       "      <td>0</td>\n",
       "      <td>0</td>\n",
       "      <td>0</td>\n",
       "      <td>0</td>\n",
       "      <td>0</td>\n",
       "    </tr>\n",
       "    <tr>\n",
       "      <th>5076</th>\n",
       "      <td>-0.836729</td>\n",
       "      <td>1.126119</td>\n",
       "      <td>-0.343633</td>\n",
       "      <td>-0.073228</td>\n",
       "      <td>-0.282425</td>\n",
       "      <td>0.102271</td>\n",
       "      <td>-0.173330</td>\n",
       "      <td>-0.022881</td>\n",
       "      <td>2.140439</td>\n",
       "      <td>0.940075</td>\n",
       "      <td>...</td>\n",
       "      <td>2.134450</td>\n",
       "      <td>1</td>\n",
       "      <td>0</td>\n",
       "      <td>0</td>\n",
       "      <td>0</td>\n",
       "      <td>0</td>\n",
       "      <td>0</td>\n",
       "      <td>0</td>\n",
       "      <td>0</td>\n",
       "      <td>0</td>\n",
       "    </tr>\n",
       "    <tr>\n",
       "      <th>40452</th>\n",
       "      <td>-0.570014</td>\n",
       "      <td>0.780818</td>\n",
       "      <td>-0.343633</td>\n",
       "      <td>-0.375356</td>\n",
       "      <td>-0.938816</td>\n",
       "      <td>-0.539238</td>\n",
       "      <td>-0.344744</td>\n",
       "      <td>0.459581</td>\n",
       "      <td>-0.774029</td>\n",
       "      <td>-1.217956</td>\n",
       "      <td>...</td>\n",
       "      <td>-0.781868</td>\n",
       "      <td>0</td>\n",
       "      <td>0</td>\n",
       "      <td>0</td>\n",
       "      <td>0</td>\n",
       "      <td>0</td>\n",
       "      <td>0</td>\n",
       "      <td>0</td>\n",
       "      <td>0</td>\n",
       "      <td>1</td>\n",
       "    </tr>\n",
       "  </tbody>\n",
       "</table>\n",
       "<p>5 rows × 22 columns</p>\n",
       "</div>"
      ],
      "text/plain": [
       "       total_items  water_runoff  snow_depth  temperature  \\\n",
       "192      -0.856076      0.383065   -0.343633     1.768314   \n",
       "5129      0.275735      0.007167   -0.343633    -0.452824   \n",
       "42543     0.883789      1.799239   -0.343633     1.063349   \n",
       "5076     -0.836729      1.126119   -0.343633    -0.073228   \n",
       "40452    -0.570014      0.780818   -0.343633    -0.375356   \n",
       "\n",
       "       temperature_at_1500m  min_temperature  max_temperature  pressure  \\\n",
       "192                1.506677         2.044435         1.617469  0.452688   \n",
       "5129              -0.051236        -0.154553         0.617731 -0.296411   \n",
       "42543              1.486927         1.027059         1.160720  0.523933   \n",
       "5076              -0.282425         0.102271        -0.173330 -0.022881   \n",
       "40452             -0.938816        -0.539238        -0.344744  0.459581   \n",
       "\n",
       "       wind_gust_speed  total_cloud_cover  ...  wind_speed  zipcode_grouped_1  \\\n",
       "192           1.306145           1.217120  ...    0.612826                  0   \n",
       "5129          0.416231           1.246282  ...    0.003550                  0   \n",
       "42543         1.987485           0.639700  ...    0.534114                  0   \n",
       "5076          2.140439           0.940075  ...    2.134450                  1   \n",
       "40452        -0.774029          -1.217956  ...   -0.781868                  0   \n",
       "\n",
       "       zipcode_grouped_2  zipcode_grouped_3  zipcode_grouped_4  \\\n",
       "192                    0                  1                  0   \n",
       "5129                   0                  0                  0   \n",
       "42543                  1                  0                  0   \n",
       "5076                   0                  0                  0   \n",
       "40452                  0                  0                  0   \n",
       "\n",
       "       zipcode_grouped_5  zipcode_grouped_6  zipcode_grouped_7  \\\n",
       "192                    0                  0                  0   \n",
       "5129                   0                  0                  1   \n",
       "42543                  0                  0                  0   \n",
       "5076                   0                  0                  0   \n",
       "40452                  0                  0                  0   \n",
       "\n",
       "       zipcode_grouped_8  zipcode_grouped_9  \n",
       "192                    0                  0  \n",
       "5129                   0                  0  \n",
       "42543                  0                  0  \n",
       "5076                   0                  0  \n",
       "40452                  0                  1  \n",
       "\n",
       "[5 rows x 22 columns]"
      ]
     },
     "execution_count": 93,
     "metadata": {},
     "output_type": "execute_result"
    }
   ],
   "source": [
    "val_X.head()"
   ]
  },
  {
   "cell_type": "code",
   "execution_count": 10,
   "id": "d9e61a0e-e0bb-421d-b59e-f0d115821d67",
   "metadata": {
    "tags": []
   },
   "outputs": [
    {
     "data": {
      "text/plain": [
       "XGBClassifier(base_score=None, booster=None, callbacks=None,\n",
       "              colsample_bylevel=None, colsample_bynode=None,\n",
       "              colsample_bytree=0.8, device=None, early_stopping_rounds=None,\n",
       "              enable_categorical=False, eval_metric=None, feature_types=None,\n",
       "              gamma=1, grow_policy=None, importance_type=None,\n",
       "              interaction_constraints=None, learning_rate=None, max_bin=None,\n",
       "              max_cat_threshold=None, max_cat_to_onehot=None,\n",
       "              max_delta_step=None, max_depth=4, max_leaves=None,\n",
       "              min_child_weight=10, missing=nan, monotone_constraints=None,\n",
       "              multi_strategy=None, n_estimators=None, n_jobs=None,\n",
       "              num_parallel_tree=None, random_state=None, ...)"
      ]
     },
     "execution_count": 10,
     "metadata": {},
     "output_type": "execute_result"
    }
   ],
   "source": [
    "xgb = XGBClassifier()\n",
    "\n",
    "# param_grid = {\n",
    "#     'n_estimators': [100, 200, 300],\n",
    "#     'max_depth': [3, 4, 5],\n",
    "#     'learning_rate': [0.01, 0.1, 0.2],\n",
    "# }\n",
    "\n",
    "skf = StratifiedKFold(n_splits=3, shuffle = True, random_state = 42)\n",
    "\n",
    "param_grid = {\n",
    "        'min_child_weight': [1, 5, 10],\n",
    "        'gamma': [0.5, 1, 1.5, 2, 5],\n",
    "        'subsample': [0.6, 0.8, 1.0],\n",
    "        'colsample_bytree': [0.6, 0.8, 1.0],\n",
    "        'max_depth': [3, 4, 5]\n",
    "        }\n",
    "\n",
    "grid_search = GridSearchCV(xgb, param_grid, cv=skf.split(train_X, train_Y), scoring='accuracy')\n",
    "\n",
    "grid_search.fit(train_X, train_Y)\n",
    "\n",
    "# Get the best parameters\n",
    "best_params = grid_search.best_params_\n",
    "\n",
    "# Create the XGBoost classifier with the best parameters\n",
    "best_xgb = XGBClassifier(**best_params)\n",
    "\n",
    "# Fit the best model on the training data\n",
    "best_xgb.fit(train_X, train_Y)"
   ]
  },
  {
   "cell_type": "code",
   "execution_count": 20,
   "id": "fd530aea-3fe0-4af2-b7e6-e13e78a08773",
   "metadata": {
    "tags": []
   },
   "outputs": [
    {
     "name": "stdout",
     "output_type": "stream",
     "text": [
      "Validation Accuracy: 0.83\n",
      "Precision: 0.78\n",
      "Recall: 0.82\n",
      "F1 Score: 0.80\n",
      "AUC: 0.83\n"
     ]
    },
    {
     "data": {
      "image/png": "[encoded data removed]",
      "text/plain": [
       "<Figure size 640x480 with 2 Axes>"
      ]
     },
     "metadata": {},
     "output_type": "display_data"
    },
    {
     "data": {
      "image/png": "[encoded data removed]",
      "text/plain": [
       "<Figure size 800x600 with 1 Axes>"
      ]
     },
     "metadata": {},
     "output_type": "display_data"
    }
   ],
   "source": [
    "\n",
    "\n",
    "# Predict on the validation data\n",
    "val_Y_pred = best_xgb.predict(val_X)\n",
    "\n",
    "# Calculate accuracy\n",
    "accuracy = accuracy_score(val_Y, val_Y_pred)\n",
    "precision = precision_score(val_Y, val_Y_pred)\n",
    "recall = recall_score(val_Y, val_Y_pred)\n",
    "f1 = f1_score(val_Y, val_Y_pred)\n",
    "\n",
    "# Calculate ROC curve and AUC\n",
    "fpr, tpr, thresholds = roc_curve(val_Y, val_Y_pred)\n",
    "roc_auc = roc_auc_score(val_Y, val_Y_pred)\n",
    "print(f'Validation Accuracy: {accuracy:.2f}')\n",
    "print(\"Precision: {:.2f}\".format(precision))\n",
    "print(\"Recall: {:.2f}\".format(recall))\n",
    "print(\"F1 Score: {:.2f}\".format(f1))\n",
    "print(\"AUC: {:.2f}\".format(roc_auc))\n",
    "\n",
    "\n",
    "# Create and display a modern confusion matrix\n",
    "cm = confusion_matrix(val_Y, val_Y_pred)\n",
    "#disp = plot_confusion_matrix(best_xgb, val_X, val_Y, display_labels=, cmap=plt.cm.Blues, values_format='d')\n",
    "disp = ConfusionMatrixDisplay(confusion_matrix=cm, display_labels=['Delayed', 'On time'])\n",
    "disp.plot()\n",
    "disp.ax_.set_title('Confusion Matrix')\n",
    "plt.show()\n",
    "\n",
    "\n",
    "# Plot the ROC curve\n",
    "plt.figure(figsize=(8, 6))\n",
    "plt.plot(fpr, tpr, color='darkorange', lw=2, label='ROC curve (area = {:.2f})'.format(roc_auc))\n",
    "plt.plot([0, 1], [0, 1], color='navy', lw=2, linestyle='--')\n",
    "plt.xlabel('False Positive Rate')\n",
    "plt.ylabel('True Positive Rate')\n",
    "plt.title('Receiver Operating Characteristic (ROC) Curve')\n",
    "plt.legend(loc='lower right')\n",
    "plt.show()\n"
   ]
  },
  {
   "cell_type": "code",
   "execution_count": 125,
   "id": "9280bf1b-64f6-46f4-8ec6-2a26aa2c2d77",
   "metadata": {
    "tags": []
   },
   "outputs": [
    {
     "name": "stderr",
     "output_type": "stream",
     "text": [
      "/opt/conda/lib/python3.10/site-packages/xgboost/core.py:160: UserWarning: [00:31:25] WARNING: /workspace/src/c_api/c_api.cc:1240: Saving into deprecated binary model format, please consider using `json` or `ubj`. Model format will default to JSON in XGBoost 2.2 if not specified.\n",
      "  warnings.warn(smsg, UserWarning)\n"
     ]
    }
   ],
   "source": [
    "# with open(\"./best_xgb_model\", \"wb\") as f:\n",
    "#     joblib.dump(best_xgb, f)  \n",
    "\n",
    "best_xgb.save_model(\"best_xgb_model.model\")"
   ]
  },
  {
   "cell_type": "code",
   "execution_count": 17,
   "id": "5054f632-3c67-48ad-8521-fbd825c68dc0",
   "metadata": {
    "tags": []
   },
   "outputs": [],
   "source": [
    "# Create a tar.gz archive and add the model file to it\n",
    "\n",
    "import tarfile\n",
    "import joblib\n",
    "import gzip\n",
    "\n",
    "with tarfile.open('best_xgb.tar.gz', 'w:gz') as tar:\n",
    "    tar.add('best_xgb_model.model', arcname='best_xgb_model.model')"
   ]
  },
  {
   "cell_type": "code",
   "execution_count": 18,
   "id": "7d0c8be1-d40a-4f89-9492-4620953c33f7",
   "metadata": {
    "tags": []
   },
   "outputs": [],
   "source": [
    "model_name = 'best_xgb.tar.gz'\n",
    "model_location = os.path.join('model', model_name)\n",
    "s3_client.upload_file(Filename=model_name, Bucket=s3_bucket, Key=model_location)"
   ]
  },
  {
   "cell_type": "code",
   "execution_count": 23,
   "id": "0b592635-2978-47a5-922c-7216c9ace386",
   "metadata": {},
   "outputs": [
    {
     "name": "stdout",
     "output_type": "stream",
     "text": [
      "sagemaker.config INFO - Not applying SDK defaults from location: /etc/xdg/sagemaker/config.yaml\n",
      "sagemaker.config INFO - Not applying SDK defaults from location: /root/.config/sagemaker/config.yaml\n"
     ]
    }
   ],
   "source": [
    "# deploy\n",
    "model_path = \"s3://\" + s3_bucket + '/'+ model_location #s3://sagemaker-studio-073855787749-u265vam8zvs/model/best_xgb.tar.gz\n",
    "container = sagemaker.image_uris.retrieve(region=sagemaker_session.boto_region_name, \n",
    "                                framework=\"xgboost\", \n",
    "                               version='1.7-1')\n",
    "# Initialize an XGBoost estimator\n",
    "\n",
    "#s3://sagemaker-studio-073855787749-u265vam8zvs/input/exp01ontimeornot/sagemaker-automl-candidates/model/WeightedEnsemble-L2-FULL-t4/model.tar.gz\n",
    "xgb_model = Model(\n",
    "    model_data=model_path,\n",
    "    image_uri=container,\n",
    "    role=role\n",
    ")"
   ]
  },
  {
   "cell_type": "code",
   "execution_count": 24,
   "id": "e550aa5a-6f83-4a69-89ad-388d48187a12",
   "metadata": {
    "tags": []
   },
   "outputs": [
    {
     "name": "stdout",
     "output_type": "stream",
     "text": [
      "EndpointName = DEMO-xgboost-2023-11-01-1611\n"
     ]
    }
   ],
   "source": [
    "from datetime import datetime\n",
    "\n",
    "endpoint_name = f\"DEMO-xgboost-{datetime.utcnow():%Y-%m-%d-%H%M}\"\n",
    "print(\"EndpointName =\", endpoint_name)"
   ]
  },
  {
   "cell_type": "code",
   "execution_count": 25,
   "id": "6af518ab-74de-4c42-bf27-0a31d5c651ae",
   "metadata": {
    "tags": []
   },
   "outputs": [
    {
     "name": "stdout",
     "output_type": "stream",
     "text": [
      "sagemaker.config INFO - Not applying SDK defaults from location: /etc/xdg/sagemaker/config.yaml\n",
      "sagemaker.config INFO - Not applying SDK defaults from location: /root/.config/sagemaker/config.yaml\n"
     ]
    }
   ],
   "source": [
    "#monitoring\n",
    "\n",
    "from sagemaker.model_monitor import DataCaptureConfig\n",
    "s3_capture_upload_path = os.path.join('s3://', s3_bucket, 'capture')\n",
    "\n",
    "\n",
    "# Configuration object passed in when deploying Models to SM endpoints\n",
    "data_capture_config = DataCaptureConfig(\n",
    "    enable_capture = True, \n",
    "    destination_s3_uri = s3_capture_upload_path, \n",
    "    capture_options = [\"REQUEST\", \"RESPONSE\"],\n",
    ")"
   ]
  },
  {
   "cell_type": "code",
   "execution_count": 26,
   "id": "681c721f-25fa-41c9-a63e-406ab09f5cca",
   "metadata": {
    "tags": []
   },
   "outputs": [
    {
     "name": "stdout",
     "output_type": "stream",
     "text": [
      "sagemaker.config INFO - Not applying SDK defaults from location: /etc/xdg/sagemaker/config.yaml\n",
      "sagemaker.config INFO - Not applying SDK defaults from location: /root/.config/sagemaker/config.yaml\n",
      "-------!"
     ]
    }
   ],
   "source": [
    "xgb_model.deploy(\n",
    "    initial_instance_count=1,\n",
    "    instance_type=\"ml.m4.xlarge\",\n",
    "    endpoint_name=endpoint_name,\n",
    "    data_capture_config=data_capture_config\n",
    ")"
   ]
  },
  {
   "cell_type": "code",
   "execution_count": 48,
   "id": "622302a9-834f-4db5-9fdb-5e20d46e5b86",
   "metadata": {
    "tags": []
   },
   "outputs": [
    {
     "name": "stdout",
     "output_type": "stream",
     "text": [
      "sagemaker.config INFO - Not applying SDK defaults from location: /etc/xdg/sagemaker/config.yaml\n",
      "sagemaker.config INFO - Not applying SDK defaults from location: /root/.config/sagemaker/config.yaml\n"
     ]
    }
   ],
   "source": [
    "# deploy\n",
    "\n",
    "from sagemaker.predictor import Predictor\n",
    "from sagemaker.deserializers import CSVDeserializer #JSONDeserializer\n",
    "from sagemaker.serializers import CSVSerializer\n",
    "\n",
    "predictor = Predictor(endpoint_name=endpoint_name,\n",
    "                      serializer = CSVSerializer(),\n",
    "                      deserializer = CSVDeserializer())\n",
    "\n"
   ]
  },
  {
   "cell_type": "code",
   "execution_count": 51,
   "id": "50946355-c83b-4c34-88c7-3dca1c18312c",
   "metadata": {
    "tags": []
   },
   "outputs": [
    {
     "data": {
      "text/plain": [
       "'0.45272737741470337'"
      ]
     },
     "execution_count": 51,
     "metadata": {},
     "output_type": "execute_result"
    }
   ],
   "source": [
    "#predict from the deployed model\n",
    "\n",
    "predictor.predict(test_X.iloc[1,:])[0][0]"
   ]
  },
  {
   "cell_type": "code",
   "execution_count": 64,
   "id": "1e227533-a41f-400c-89e4-d7814bde3a02",
   "metadata": {},
   "outputs": [
    {
     "name": "stdout",
     "output_type": "stream",
     "text": [
      "........................................................................................................................................................................................................Done!\n"
     ]
    }
   ],
   "source": [
    "#predict and pro\n",
    "from time import sleep\n",
    "\n",
    "train_dataset_name = \"train_with_predictions.csv\"\n",
    "\n",
    "limit = 200  # Need at least 200 samples to compute standard deviations\n",
    "i = 0\n",
    "with open(f\"{train_dataset_name}\", \"w\") as validation_file:\n",
    "    validation_file.write(\"probability,prediction,label\\n\")  # CSV header\n",
    "    for index, row in train_X.iterrows():\n",
    "        label = train_Y.iloc[index]\n",
    "        probability = float(predictor.predict(row)[0][0])\n",
    "        prediction = \"1\" if probability > 0.5 else \"0\"\n",
    "        validation_file.write(f\"{probability},{prediction},{label}\\n\")\n",
    "        i += 1\n",
    "        if i > limit:\n",
    "            break\n",
    "        print(\".\", end=\"\", flush=True)\n",
    "        sleep(0.2)\n",
    "\n",
    "\n",
    "print(\"Done!\")"
   ]
  },
  {
   "cell_type": "code",
   "execution_count": 65,
   "id": "84c3a4d2-28c7-4222-a255-b193cd5bc255",
   "metadata": {
    "tags": []
   },
   "outputs": [],
   "source": [
    "s3_client.upload_file(Filename=train_dataset_name, Bucket=s3_bucket, Key=train_dataset_name)"
   ]
  },
  {
   "cell_type": "code",
   "execution_count": 68,
   "id": "347c6f86-5c99-4c61-8fa4-6911d6105f40",
   "metadata": {
    "tags": []
   },
   "outputs": [],
   "source": [
    "#monitoring\n",
    "\n",
    "from sagemaker.model_monitor import ModelQualityMonitor\n",
    "from sagemaker.model_monitor.dataset_format import DatasetFormat\n",
    "\n",
    "model_quality_monitor = ModelQualityMonitor(\n",
    "    role=role,\n",
    "    instance_count=1,\n",
    "    instance_type='ml.m4.xlarge',\n",
    "    volume_size_in_gb=16,\n",
    "    max_runtime_in_seconds=1800,\n",
    "    sagemaker_session=sagemaker_session\n",
    ")"
   ]
  },
  {
   "cell_type": "code",
   "execution_count": 69,
   "id": "586e7c39-6166-4391-aeb0-8a311699764e",
   "metadata": {
    "tags": []
   },
   "outputs": [
    {
     "name": "stderr",
     "output_type": "stream",
     "text": [
      "INFO:sagemaker:Creating processing-job with name MyBaseLineJob\n"
     ]
    },
    {
     "name": "stdout",
     "output_type": "stream",
     "text": [
      "...............................................................................................!"
     ]
    }
   ],
   "source": [
    "# create a job to get the metrics of the model on test data\n",
    "\n",
    "baseline_job_name = \"MyBaseLineJob\"\n",
    "baseline_dataset_uri = os.path.join('s3://', s3_bucket, 'train_with_predictions.csv') #s3://sagemaker-studio-073855787749-u265vam8zvs/test_with_predictions.csv\n",
    "baseline_results_uri = os.path.join('s3://', s3_bucket, 'output')\n",
    "job = model_quality_monitor.suggest_baseline(\n",
    "    job_name=baseline_job_name,\n",
    "    baseline_dataset=baseline_dataset_uri, # The S3 location of the validation dataset.\n",
    "    dataset_format=DatasetFormat.csv(header=True),\n",
    "    output_s3_uri = baseline_results_uri, # The S3 location to store the results.\n",
    "    problem_type='BinaryClassification',\n",
    "    inference_attribute= \"prediction\", # The column in the dataset that contains predictions.\n",
    "    probability_attribute= \"probability\", # The column in the dataset that contains probabilities.\n",
    "    ground_truth_attribute= \"label\" # The column in the dataset that contains ground truth labels.\n",
    ")\n",
    "job.wait(logs=False)"
   ]
  },
  {
   "cell_type": "code",
   "execution_count": 70,
   "id": "2e6e9d25-0251-4097-aa1a-6e6907ee4bc7",
   "metadata": {
    "tags": []
   },
   "outputs": [
    {
     "data": {
      "text/html": [
       "<div>\n",
       "<style scoped>\n",
       "    .dataframe tbody tr th:only-of-type {\n",
       "        vertical-align: middle;\n",
       "    }\n",
       "\n",
       "    .dataframe tbody tr th {\n",
       "        vertical-align: top;\n",
       "    }\n",
       "\n",
       "    .dataframe thead th {\n",
       "        text-align: right;\n",
       "    }\n",
       "</style>\n",
       "<table border=\"1\" class=\"dataframe\">\n",
       "  <thead>\n",
       "    <tr style=\"text-align: right;\">\n",
       "      <th></th>\n",
       "      <th>threshold</th>\n",
       "      <th>comparison_operator</th>\n",
       "    </tr>\n",
       "  </thead>\n",
       "  <tbody>\n",
       "    <tr>\n",
       "      <th>recall</th>\n",
       "      <td>0.880952</td>\n",
       "      <td>LessThanThreshold</td>\n",
       "    </tr>\n",
       "    <tr>\n",
       "      <th>precision</th>\n",
       "      <td>0.891566</td>\n",
       "      <td>LessThanThreshold</td>\n",
       "    </tr>\n",
       "    <tr>\n",
       "      <th>accuracy</th>\n",
       "      <td>0.905473</td>\n",
       "      <td>LessThanThreshold</td>\n",
       "    </tr>\n",
       "    <tr>\n",
       "      <th>true_positive_rate</th>\n",
       "      <td>0.880952</td>\n",
       "      <td>LessThanThreshold</td>\n",
       "    </tr>\n",
       "    <tr>\n",
       "      <th>true_negative_rate</th>\n",
       "      <td>0.923077</td>\n",
       "      <td>LessThanThreshold</td>\n",
       "    </tr>\n",
       "    <tr>\n",
       "      <th>false_positive_rate</th>\n",
       "      <td>0.076923</td>\n",
       "      <td>GreaterThanThreshold</td>\n",
       "    </tr>\n",
       "    <tr>\n",
       "      <th>false_negative_rate</th>\n",
       "      <td>0.119048</td>\n",
       "      <td>GreaterThanThreshold</td>\n",
       "    </tr>\n",
       "    <tr>\n",
       "      <th>auc</th>\n",
       "      <td>0.969678</td>\n",
       "      <td>LessThanThreshold</td>\n",
       "    </tr>\n",
       "    <tr>\n",
       "      <th>f0_5</th>\n",
       "      <td>0.889423</td>\n",
       "      <td>LessThanThreshold</td>\n",
       "    </tr>\n",
       "    <tr>\n",
       "      <th>f1</th>\n",
       "      <td>0.886228</td>\n",
       "      <td>LessThanThreshold</td>\n",
       "    </tr>\n",
       "    <tr>\n",
       "      <th>f2</th>\n",
       "      <td>0.883055</td>\n",
       "      <td>LessThanThreshold</td>\n",
       "    </tr>\n",
       "  </tbody>\n",
       "</table>\n",
       "</div>"
      ],
      "text/plain": [
       "                    threshold   comparison_operator\n",
       "recall               0.880952     LessThanThreshold\n",
       "precision            0.891566     LessThanThreshold\n",
       "accuracy             0.905473     LessThanThreshold\n",
       "true_positive_rate   0.880952     LessThanThreshold\n",
       "true_negative_rate   0.923077     LessThanThreshold\n",
       "false_positive_rate  0.076923  GreaterThanThreshold\n",
       "false_negative_rate  0.119048  GreaterThanThreshold\n",
       "auc                  0.969678     LessThanThreshold\n",
       "f0_5                 0.889423     LessThanThreshold\n",
       "f1                   0.886228     LessThanThreshold\n",
       "f2                   0.883055     LessThanThreshold"
      ]
     },
     "execution_count": 70,
     "metadata": {},
     "output_type": "execute_result"
    }
   ],
   "source": [
    "baseline_job = model_quality_monitor.latest_baselining_job\n",
    "pd.DataFrame(baseline_job.suggested_constraints().body_dict[\"binary_classification_constraints\"]).T"
   ]
  },
  {
   "cell_type": "code",
   "execution_count": 71,
   "id": "a6dcd823-09fe-4fdf-8ecb-aa0ff5f16454",
   "metadata": {},
   "outputs": [
    {
     "data": {
      "text/plain": [
       "{'ResponseMetadata': {'RequestId': '604f7f98-7e42-46fc-aa2b-beb2b213ebef',\n",
       "  'HTTPStatusCode': 200,\n",
       "  'HTTPHeaders': {'x-amzn-requestid': '604f7f98-7e42-46fc-aa2b-beb2b213ebef',\n",
       "   'content-type': 'application/x-amz-json-1.1',\n",
       "   'content-length': '0',\n",
       "   'date': 'Wed, 01 Nov 2023 17:28:57 GMT'},\n",
       "  'RetryAttempts': 0}}"
      ]
     },
     "execution_count": 71,
     "metadata": {},
     "output_type": "execute_result"
    }
   ],
   "source": [
    "# Create a low-level SageMaker service client.\n",
    "sagemaker_client = boto3.client('sagemaker', region_name=sagemaker_session.boto_region_name)\n",
    "\n",
    "# Delete endpoint\n",
    "sagemaker_client.delete_endpoint(EndpointName=endpoint_name)"
   ]
  }
 ],
 "metadata": {
  "availableInstances": [
   {
    "_defaultOrder": 0,
    "_isFastLaunch": true,
    "category": "General purpose",
    "gpuNum": 0,
    "hideHardwareSpecs": false,
    "memoryGiB": 4,
    "name": "ml.t3.medium",
    "vcpuNum": 2
   },
   {
    "_defaultOrder": 1,
    "_isFastLaunch": false,
    "category": "General purpose",
    "gpuNum": 0,
    "hideHardwareSpecs": false,
    "memoryGiB": 8,
    "name": "ml.t3.large",
    "vcpuNum": 2
   },
   {
    "_defaultOrder": 2,
    "_isFastLaunch": false,
    "category": "General purpose",
    "gpuNum": 0,
    "hideHardwareSpecs": false,
    "memoryGiB": 16,
    "name": "ml.t3.xlarge",
    "vcpuNum": 4
   },
   {
    "_defaultOrder": 3,
    "_isFastLaunch": false,
    "category": "General purpose",
    "gpuNum": 0,
    "hideHardwareSpecs": false,
    "memoryGiB": 32,
    "name": "ml.t3.2xlarge",
    "vcpuNum": 8
   },
   {
    "_defaultOrder": 4,
    "_isFastLaunch": true,
    "category": "General purpose",
    "gpuNum": 0,
    "hideHardwareSpecs": false,
    "memoryGiB": 8,
    "name": "ml.m5.large",
    "vcpuNum": 2
   },
   {
    "_defaultOrder": 5,
    "_isFastLaunch": false,
    "category": "General purpose",
    "gpuNum": 0,
    "hideHardwareSpecs": false,
    "memoryGiB": 16,
    "name": "ml.m5.xlarge",
    "vcpuNum": 4
   },
   {
    "_defaultOrder": 6,
    "_isFastLaunch": false,
    "category": "General purpose",
    "gpuNum": 0,
    "hideHardwareSpecs": false,
    "memoryGiB": 32,
    "name": "ml.m5.2xlarge",
    "vcpuNum": 8
   },
   {
    "_defaultOrder": 7,
    "_isFastLaunch": false,
    "category": "General purpose",
    "gpuNum": 0,
    "hideHardwareSpecs": false,
    "memoryGiB": 64,
    "name": "ml.m5.4xlarge",
    "vcpuNum": 16
   },
   {
    "_defaultOrder": 8,
    "_isFastLaunch": false,
    "category": "General purpose",
    "gpuNum": 0,
    "hideHardwareSpecs": false,
    "memoryGiB": 128,
    "name": "ml.m5.8xlarge",
    "vcpuNum": 32
   },
   {
    "_defaultOrder": 9,
    "_isFastLaunch": false,
    "category": "General purpose",
    "gpuNum": 0,
    "hideHardwareSpecs": false,
    "memoryGiB": 192,
    "name": "ml.m5.12xlarge",
    "vcpuNum": 48
   },
   {
    "_defaultOrder": 10,
    "_isFastLaunch": false,
    "category": "General purpose",
    "gpuNum": 0,
    "hideHardwareSpecs": false,
    "memoryGiB": 256,
    "name": "ml.m5.16xlarge",
    "vcpuNum": 64
   },
   {
    "_defaultOrder": 11,
    "_isFastLaunch": false,
    "category": "General purpose",
    "gpuNum": 0,
    "hideHardwareSpecs": false,
    "memoryGiB": 384,
    "name": "ml.m5.24xlarge",
    "vcpuNum": 96
   },
   {
    "_defaultOrder": 12,
    "_isFastLaunch": false,
    "category": "General purpose",
    "gpuNum": 0,
    "hideHardwareSpecs": false,
    "memoryGiB": 8,
    "name": "ml.m5d.large",
    "vcpuNum": 2
   },
   {
    "_defaultOrder": 13,
    "_isFastLaunch": false,
    "category": "General purpose",
    "gpuNum": 0,
    "hideHardwareSpecs": false,
    "memoryGiB": 16,
    "name": "ml.m5d.xlarge",
    "vcpuNum": 4
   },
   {
    "_defaultOrder": 14,
    "_isFastLaunch": false,
    "category": "General purpose",
    "gpuNum": 0,
    "hideHardwareSpecs": false,
    "memoryGiB": 32,
    "name": "ml.m5d.2xlarge",
    "vcpuNum": 8
   },
   {
    "_defaultOrder": 15,
    "_isFastLaunch": false,
    "category": "General purpose",
    "gpuNum": 0,
    "hideHardwareSpecs": false,
    "memoryGiB": 64,
    "name": "ml.m5d.4xlarge",
    "vcpuNum": 16
   },
   {
    "_defaultOrder": 16,
    "_isFastLaunch": false,
    "category": "General purpose",
    "gpuNum": 0,
    "hideHardwareSpecs": false,
    "memoryGiB": 128,
    "name": "ml.m5d.8xlarge",
    "vcpuNum": 32
   },
   {
    "_defaultOrder": 17,
    "_isFastLaunch": false,
    "category": "General purpose",
    "gpuNum": 0,
    "hideHardwareSpecs": false,
    "memoryGiB": 192,
    "name": "ml.m5d.12xlarge",
    "vcpuNum": 48
   },
   {
    "_defaultOrder": 18,
    "_isFastLaunch": false,
    "category": "General purpose",
    "gpuNum": 0,
    "hideHardwareSpecs": false,
    "memoryGiB": 256,
    "name": "ml.m5d.16xlarge",
    "vcpuNum": 64
   },
   {
    "_defaultOrder": 19,
    "_isFastLaunch": false,
    "category": "General purpose",
    "gpuNum": 0,
    "hideHardwareSpecs": false,
    "memoryGiB": 384,
    "name": "ml.m5d.24xlarge",
    "vcpuNum": 96
   },
   {
    "_defaultOrder": 20,
    "_isFastLaunch": false,
    "category": "General purpose",
    "gpuNum": 0,
    "hideHardwareSpecs": true,
    "memoryGiB": 0,
    "name": "ml.geospatial.interactive",
    "supportedImageNames": [
     "sagemaker-geospatial-v1-0"
    ],
    "vcpuNum": 0
   },
   {
    "_defaultOrder": 21,
    "_isFastLaunch": true,
    "category": "Compute optimized",
    "gpuNum": 0,
    "hideHardwareSpecs": false,
    "memoryGiB": 4,
    "name": "ml.c5.large",
    "vcpuNum": 2
   },
   {
    "_defaultOrder": 22,
    "_isFastLaunch": false,
    "category": "Compute optimized",
    "gpuNum": 0,
    "hideHardwareSpecs": false,
    "memoryGiB": 8,
    "name": "ml.c5.xlarge",
    "vcpuNum": 4
   },
   {
    "_defaultOrder": 23,
    "_isFastLaunch": false,
    "category": "Compute optimized",
    "gpuNum": 0,
    "hideHardwareSpecs": false,
    "memoryGiB": 16,
    "name": "ml.c5.2xlarge",
    "vcpuNum": 8
   },
   {
    "_defaultOrder": 24,
    "_isFastLaunch": false,
    "category": "Compute optimized",
    "gpuNum": 0,
    "hideHardwareSpecs": false,
    "memoryGiB": 32,
    "name": "ml.c5.4xlarge",
    "vcpuNum": 16
   },
   {
    "_defaultOrder": 25,
    "_isFastLaunch": false,
    "category": "Compute optimized",
    "gpuNum": 0,
    "hideHardwareSpecs": false,
    "memoryGiB": 72,
    "name": "ml.c5.9xlarge",
    "vcpuNum": 36
   },
   {
    "_defaultOrder": 26,
    "_isFastLaunch": false,
    "category": "Compute optimized",
    "gpuNum": 0,
    "hideHardwareSpecs": false,
    "memoryGiB": 96,
    "name": "ml.c5.12xlarge",
    "vcpuNum": 48
   },
   {
    "_defaultOrder": 27,
    "_isFastLaunch": false,
    "category": "Compute optimized",
    "gpuNum": 0,
    "hideHardwareSpecs": false,
    "memoryGiB": 144,
    "name": "ml.c5.18xlarge",
    "vcpuNum": 72
   },
   {
    "_defaultOrder": 28,
    "_isFastLaunch": false,
    "category": "Compute optimized",
    "gpuNum": 0,
    "hideHardwareSpecs": false,
    "memoryGiB": 192,
    "name": "ml.c5.24xlarge",
    "vcpuNum": 96
   },
   {
    "_defaultOrder": 29,
    "_isFastLaunch": true,
    "category": "Accelerated computing",
    "gpuNum": 1,
    "hideHardwareSpecs": false,
    "memoryGiB": 16,
    "name": "ml.g4dn.xlarge",
    "vcpuNum": 4
   },
   {
    "_defaultOrder": 30,
    "_isFastLaunch": false,
    "category": "Accelerated computing",
    "gpuNum": 1,
    "hideHardwareSpecs": false,
    "memoryGiB": 32,
    "name": "ml.g4dn.2xlarge",
    "vcpuNum": 8
   },
   {
    "_defaultOrder": 31,
    "_isFastLaunch": false,
    "category": "Accelerated computing",
    "gpuNum": 1,
    "hideHardwareSpecs": false,
    "memoryGiB": 64,
    "name": "ml.g4dn.4xlarge",
    "vcpuNum": 16
   },
   {
    "_defaultOrder": 32,
    "_isFastLaunch": false,
    "category": "Accelerated computing",
    "gpuNum": 1,
    "hideHardwareSpecs": false,
    "memoryGiB": 128,
    "name": "ml.g4dn.8xlarge",
    "vcpuNum": 32
   },
   {
    "_defaultOrder": 33,
    "_isFastLaunch": false,
    "category": "Accelerated computing",
    "gpuNum": 4,
    "hideHardwareSpecs": false,
    "memoryGiB": 192,
    "name": "ml.g4dn.12xlarge",
    "vcpuNum": 48
   },
   {
    "_defaultOrder": 34,
    "_isFastLaunch": false,
    "category": "Accelerated computing",
    "gpuNum": 1,
    "hideHardwareSpecs": false,
    "memoryGiB": 256,
    "name": "ml.g4dn.16xlarge",
    "vcpuNum": 64
   },
   {
    "_defaultOrder": 35,
    "_isFastLaunch": false,
    "category": "Accelerated computing",
    "gpuNum": 1,
    "hideHardwareSpecs": false,
    "memoryGiB": 61,
    "name": "ml.p3.2xlarge",
    "vcpuNum": 8
   },
   {
    "_defaultOrder": 36,
    "_isFastLaunch": false,
    "category": "Accelerated computing",
    "gpuNum": 4,
    "hideHardwareSpecs": false,
    "memoryGiB": 244,
    "name": "ml.p3.8xlarge",
    "vcpuNum": 32
   },
   {
    "_defaultOrder": 37,
    "_isFastLaunch": false,
    "category": "Accelerated computing",
    "gpuNum": 8,
    "hideHardwareSpecs": false,
    "memoryGiB": 488,
    "name": "ml.p3.16xlarge",
    "vcpuNum": 64
   },
   {
    "_defaultOrder": 38,
    "_isFastLaunch": false,
    "category": "Accelerated computing",
    "gpuNum": 8,
    "hideHardwareSpecs": false,
    "memoryGiB": 768,
    "name": "ml.p3dn.24xlarge",
    "vcpuNum": 96
   },
   {
    "_defaultOrder": 39,
    "_isFastLaunch": false,
    "category": "Memory Optimized",
    "gpuNum": 0,
    "hideHardwareSpecs": false,
    "memoryGiB": 16,
    "name": "ml.r5.large",
    "vcpuNum": 2
   },
   {
    "_defaultOrder": 40,
    "_isFastLaunch": false,
    "category": "Memory Optimized",
    "gpuNum": 0,
    "hideHardwareSpecs": false,
    "memoryGiB": 32,
    "name": "ml.r5.xlarge",
    "vcpuNum": 4
   },
   {
    "_defaultOrder": 41,
    "_isFastLaunch": false,
    "category": "Memory Optimized",
    "gpuNum": 0,
    "hideHardwareSpecs": false,
    "memoryGiB": 64,
    "name": "ml.r5.2xlarge",
    "vcpuNum": 8
   },
   {
    "_defaultOrder": 42,
    "_isFastLaunch": false,
    "category": "Memory Optimized",
    "gpuNum": 0,
    "hideHardwareSpecs": false,
    "memoryGiB": 128,
    "name": "ml.r5.4xlarge",
    "vcpuNum": 16
   },
   {
    "_defaultOrder": 43,
    "_isFastLaunch": false,
    "category": "Memory Optimized",
    "gpuNum": 0,
    "hideHardwareSpecs": false,
    "memoryGiB": 256,
    "name": "ml.r5.8xlarge",
    "vcpuNum": 32
   },
   {
    "_defaultOrder": 44,
    "_isFastLaunch": false,
    "category": "Memory Optimized",
    "gpuNum": 0,
    "hideHardwareSpecs": false,
    "memoryGiB": 384,
    "name": "ml.r5.12xlarge",
    "vcpuNum": 48
   },
   {
    "_defaultOrder": 45,
    "_isFastLaunch": false,
    "category": "Memory Optimized",
    "gpuNum": 0,
    "hideHardwareSpecs": false,
    "memoryGiB": 512,
    "name": "ml.r5.16xlarge",
    "vcpuNum": 64
   },
   {
    "_defaultOrder": 46,
    "_isFastLaunch": false,
    "category": "Memory Optimized",
    "gpuNum": 0,
    "hideHardwareSpecs": false,
    "memoryGiB": 768,
    "name": "ml.r5.24xlarge",
    "vcpuNum": 96
   },
   {
    "_defaultOrder": 47,
    "_isFastLaunch": false,
    "category": "Accelerated computing",
    "gpuNum": 1,
    "hideHardwareSpecs": false,
    "memoryGiB": 16,
    "name": "ml.g5.xlarge",
    "vcpuNum": 4
   },
   {
    "_defaultOrder": 48,
    "_isFastLaunch": false,
    "category": "Accelerated computing",
    "gpuNum": 1,
    "hideHardwareSpecs": false,
    "memoryGiB": 32,
    "name": "ml.g5.2xlarge",
    "vcpuNum": 8
   },
   {
    "_defaultOrder": 49,
    "_isFastLaunch": false,
    "category": "Accelerated computing",
    "gpuNum": 1,
    "hideHardwareSpecs": false,
    "memoryGiB": 64,
    "name": "ml.g5.4xlarge",
    "vcpuNum": 16
   },
   {
    "_defaultOrder": 50,
    "_isFastLaunch": false,
    "category": "Accelerated computing",
    "gpuNum": 1,
    "hideHardwareSpecs": false,
    "memoryGiB": 128,
    "name": "ml.g5.8xlarge",
    "vcpuNum": 32
   },
   {
    "_defaultOrder": 51,
    "_isFastLaunch": false,
    "category": "Accelerated computing",
    "gpuNum": 1,
    "hideHardwareSpecs": false,
    "memoryGiB": 256,
    "name": "ml.g5.16xlarge",
    "vcpuNum": 64
   },
   {
    "_defaultOrder": 52,
    "_isFastLaunch": false,
    "category": "Accelerated computing",
    "gpuNum": 4,
    "hideHardwareSpecs": false,
    "memoryGiB": 192,
    "name": "ml.g5.12xlarge",
    "vcpuNum": 48
   },
   {
    "_defaultOrder": 53,
    "_isFastLaunch": false,
    "category": "Accelerated computing",
    "gpuNum": 4,
    "hideHardwareSpecs": false,
    "memoryGiB": 384,
    "name": "ml.g5.24xlarge",
    "vcpuNum": 96
   },
   {
    "_defaultOrder": 54,
    "_isFastLaunch": false,
    "category": "Accelerated computing",
    "gpuNum": 8,
    "hideHardwareSpecs": false,
    "memoryGiB": 768,
    "name": "ml.g5.48xlarge",
    "vcpuNum": 192
   },
   {
    "_defaultOrder": 55,
    "_isFastLaunch": false,
    "category": "Accelerated computing",
    "gpuNum": 8,
    "hideHardwareSpecs": false,
    "memoryGiB": 1152,
    "name": "ml.p4d.24xlarge",
    "vcpuNum": 96
   },
   {
    "_defaultOrder": 56,
    "_isFastLaunch": false,
    "category": "Accelerated computing",
    "gpuNum": 8,
    "hideHardwareSpecs": false,
    "memoryGiB": 1152,
    "name": "ml.p4de.24xlarge",
    "vcpuNum": 96
   }
  ],
  "instance_type": "ml.t3.medium",
  "kernelspec": {
   "display_name": "Python 3 (Data Science 3.0)",
   "language": "python",
   "name": "python3__SAGEMAKER_INTERNAL__arn:aws:sagemaker:us-east-1:081325390199:image/sagemaker-data-science-310-v1"
  },
  "language_info": {
   "codemirror_mode": {
    "name": "ipython",
    "version": 3
   },
   "file_extension": ".py",
   "mimetype": "text/x-python",
   "name": "python",
   "nbconvert_exporter": "python",
   "pygments_lexer": "ipython3",
   "version": "3.10.6"
  }
 },
 "nbformat": 4,
 "nbformat_minor": 5
}
